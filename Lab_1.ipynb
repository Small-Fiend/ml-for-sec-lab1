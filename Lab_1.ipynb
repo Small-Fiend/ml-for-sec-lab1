{
  "nbformat": 4,
  "nbformat_minor": 0,
  "metadata": {
    "colab": {
      "provenance": [],
      "authorship_tag": "ABX9TyO8qxjgVZTjB0aKdp0sxGmD",
      "include_colab_link": true
    },
    "kernelspec": {
      "name": "python3",
      "display_name": "Python 3"
    },
    "language_info": {
      "name": "python"
    }
  },
  "cells": [
    {
      "cell_type": "markdown",
      "metadata": {
        "id": "view-in-github",
        "colab_type": "text"
      },
      "source": [
        "<a href=\"https://colab.research.google.com/github/Small-Fiend/ml-for-sec-lab1/blob/main/Lab_1.ipynb\" target=\"_parent\"><img src=\"https://colab.research.google.com/assets/colab-badge.svg\" alt=\"Open In Colab\"/></a>"
      ]
    },
    {
      "cell_type": "markdown",
      "source": [
        "## ML for Security. Лабораторная №1\n",
        "\n",
        "Выполнила: Рудинская Е.А., группа 6132-010402D\n"
      ],
      "metadata": {
        "id": "oEUx2hFMT3mV"
      }
    },
    {
      "cell_type": "code",
      "execution_count": 8,
      "metadata": {
        "id": "x9WaduQ7T0YQ"
      },
      "outputs": [],
      "source": [
        "import numpy as np\n",
        "import pandas as pd\n",
        "import joblib\n",
        "from joblib import dump,load\n",
        "\n",
        "import matplotlib.pyplot as plt\n",
        "import seaborn as sns\n",
        "\n",
        "import sklearn\n",
        "from sklearn.neighbors import KNeighborsClassifier\n",
        "from sklearn.naive_bayes import GaussianNB\n",
        "from sklearn.svm import LinearSVC\n",
        "from sklearn.tree import DecisionTreeClassifier\n",
        "from sklearn.linear_model import LogisticRegression\n",
        "from sklearn.ensemble import RandomForestClassifier\n",
        "from sklearn.model_selection import train_test_split\n",
        "from sklearn.model_selection import cross_val_score\n",
        "from sklearn.metrics import confusion_matrix\n",
        "from sklearn.model_selection import GridSearchCV\n",
        "from sklearn.metrics import accuracy_score\n",
        "from sklearn.metrics import classification_report\n",
        "from sklearn.metrics import f1_score\n",
        "from sklearn.preprocessing import StandardScaler\n",
        "\n",
        "from PIL import Image\n",
        "from google.colab import files\n",
        "from io import BytesIO"
      ]
    },
    {
      "cell_type": "code",
      "source": [
        "uploaded = files.upload()\n"
      ],
      "metadata": {
        "colab": {
          "base_uri": "https://localhost:8080/",
          "height": 108
        },
        "id": "5ReLuZQBU7dI",
        "outputId": "5de85e82-eeb9-4a09-9a4e-08e2c97f5b70"
      },
      "execution_count": 9,
      "outputs": [
        {
          "output_type": "display_data",
          "data": {
            "text/plain": [
              "<IPython.core.display.HTML object>"
            ],
            "text/html": [
              "\n",
              "     <input type=\"file\" id=\"files-960dd21c-4e31-48aa-938e-b92691668dfe\" name=\"files[]\" multiple disabled\n",
              "        style=\"border:none\" />\n",
              "     <output id=\"result-960dd21c-4e31-48aa-938e-b92691668dfe\">\n",
              "      Upload widget is only available when the cell has been executed in the\n",
              "      current browser session. Please rerun this cell to enable.\n",
              "      </output>\n",
              "      <script>// Copyright 2017 Google LLC\n",
              "//\n",
              "// Licensed under the Apache License, Version 2.0 (the \"License\");\n",
              "// you may not use this file except in compliance with the License.\n",
              "// You may obtain a copy of the License at\n",
              "//\n",
              "//      http://www.apache.org/licenses/LICENSE-2.0\n",
              "//\n",
              "// Unless required by applicable law or agreed to in writing, software\n",
              "// distributed under the License is distributed on an \"AS IS\" BASIS,\n",
              "// WITHOUT WARRANTIES OR CONDITIONS OF ANY KIND, either express or implied.\n",
              "// See the License for the specific language governing permissions and\n",
              "// limitations under the License.\n",
              "\n",
              "/**\n",
              " * @fileoverview Helpers for google.colab Python module.\n",
              " */\n",
              "(function(scope) {\n",
              "function span(text, styleAttributes = {}) {\n",
              "  const element = document.createElement('span');\n",
              "  element.textContent = text;\n",
              "  for (const key of Object.keys(styleAttributes)) {\n",
              "    element.style[key] = styleAttributes[key];\n",
              "  }\n",
              "  return element;\n",
              "}\n",
              "\n",
              "// Max number of bytes which will be uploaded at a time.\n",
              "const MAX_PAYLOAD_SIZE = 100 * 1024;\n",
              "\n",
              "function _uploadFiles(inputId, outputId) {\n",
              "  const steps = uploadFilesStep(inputId, outputId);\n",
              "  const outputElement = document.getElementById(outputId);\n",
              "  // Cache steps on the outputElement to make it available for the next call\n",
              "  // to uploadFilesContinue from Python.\n",
              "  outputElement.steps = steps;\n",
              "\n",
              "  return _uploadFilesContinue(outputId);\n",
              "}\n",
              "\n",
              "// This is roughly an async generator (not supported in the browser yet),\n",
              "// where there are multiple asynchronous steps and the Python side is going\n",
              "// to poll for completion of each step.\n",
              "// This uses a Promise to block the python side on completion of each step,\n",
              "// then passes the result of the previous step as the input to the next step.\n",
              "function _uploadFilesContinue(outputId) {\n",
              "  const outputElement = document.getElementById(outputId);\n",
              "  const steps = outputElement.steps;\n",
              "\n",
              "  const next = steps.next(outputElement.lastPromiseValue);\n",
              "  return Promise.resolve(next.value.promise).then((value) => {\n",
              "    // Cache the last promise value to make it available to the next\n",
              "    // step of the generator.\n",
              "    outputElement.lastPromiseValue = value;\n",
              "    return next.value.response;\n",
              "  });\n",
              "}\n",
              "\n",
              "/**\n",
              " * Generator function which is called between each async step of the upload\n",
              " * process.\n",
              " * @param {string} inputId Element ID of the input file picker element.\n",
              " * @param {string} outputId Element ID of the output display.\n",
              " * @return {!Iterable<!Object>} Iterable of next steps.\n",
              " */\n",
              "function* uploadFilesStep(inputId, outputId) {\n",
              "  const inputElement = document.getElementById(inputId);\n",
              "  inputElement.disabled = false;\n",
              "\n",
              "  const outputElement = document.getElementById(outputId);\n",
              "  outputElement.innerHTML = '';\n",
              "\n",
              "  const pickedPromise = new Promise((resolve) => {\n",
              "    inputElement.addEventListener('change', (e) => {\n",
              "      resolve(e.target.files);\n",
              "    });\n",
              "  });\n",
              "\n",
              "  const cancel = document.createElement('button');\n",
              "  inputElement.parentElement.appendChild(cancel);\n",
              "  cancel.textContent = 'Cancel upload';\n",
              "  const cancelPromise = new Promise((resolve) => {\n",
              "    cancel.onclick = () => {\n",
              "      resolve(null);\n",
              "    };\n",
              "  });\n",
              "\n",
              "  // Wait for the user to pick the files.\n",
              "  const files = yield {\n",
              "    promise: Promise.race([pickedPromise, cancelPromise]),\n",
              "    response: {\n",
              "      action: 'starting',\n",
              "    }\n",
              "  };\n",
              "\n",
              "  cancel.remove();\n",
              "\n",
              "  // Disable the input element since further picks are not allowed.\n",
              "  inputElement.disabled = true;\n",
              "\n",
              "  if (!files) {\n",
              "    return {\n",
              "      response: {\n",
              "        action: 'complete',\n",
              "      }\n",
              "    };\n",
              "  }\n",
              "\n",
              "  for (const file of files) {\n",
              "    const li = document.createElement('li');\n",
              "    li.append(span(file.name, {fontWeight: 'bold'}));\n",
              "    li.append(span(\n",
              "        `(${file.type || 'n/a'}) - ${file.size} bytes, ` +\n",
              "        `last modified: ${\n",
              "            file.lastModifiedDate ? file.lastModifiedDate.toLocaleDateString() :\n",
              "                                    'n/a'} - `));\n",
              "    const percent = span('0% done');\n",
              "    li.appendChild(percent);\n",
              "\n",
              "    outputElement.appendChild(li);\n",
              "\n",
              "    const fileDataPromise = new Promise((resolve) => {\n",
              "      const reader = new FileReader();\n",
              "      reader.onload = (e) => {\n",
              "        resolve(e.target.result);\n",
              "      };\n",
              "      reader.readAsArrayBuffer(file);\n",
              "    });\n",
              "    // Wait for the data to be ready.\n",
              "    let fileData = yield {\n",
              "      promise: fileDataPromise,\n",
              "      response: {\n",
              "        action: 'continue',\n",
              "      }\n",
              "    };\n",
              "\n",
              "    // Use a chunked sending to avoid message size limits. See b/62115660.\n",
              "    let position = 0;\n",
              "    do {\n",
              "      const length = Math.min(fileData.byteLength - position, MAX_PAYLOAD_SIZE);\n",
              "      const chunk = new Uint8Array(fileData, position, length);\n",
              "      position += length;\n",
              "\n",
              "      const base64 = btoa(String.fromCharCode.apply(null, chunk));\n",
              "      yield {\n",
              "        response: {\n",
              "          action: 'append',\n",
              "          file: file.name,\n",
              "          data: base64,\n",
              "        },\n",
              "      };\n",
              "\n",
              "      let percentDone = fileData.byteLength === 0 ?\n",
              "          100 :\n",
              "          Math.round((position / fileData.byteLength) * 100);\n",
              "      percent.textContent = `${percentDone}% done`;\n",
              "\n",
              "    } while (position < fileData.byteLength);\n",
              "  }\n",
              "\n",
              "  // All done.\n",
              "  yield {\n",
              "    response: {\n",
              "      action: 'complete',\n",
              "    }\n",
              "  };\n",
              "}\n",
              "\n",
              "scope.google = scope.google || {};\n",
              "scope.google.colab = scope.google.colab || {};\n",
              "scope.google.colab._files = {\n",
              "  _uploadFiles,\n",
              "  _uploadFilesContinue,\n",
              "};\n",
              "})(self);\n",
              "</script> "
            ]
          },
          "metadata": {}
        },
        {
          "output_type": "stream",
          "name": "stdout",
          "text": [
            "Saving classes_train.csv to classes_train.csv\n",
            "Saving features_train.csv to features_train.csv\n"
          ]
        }
      ]
    },
    {
      "cell_type": "code",
      "source": [
        "from sklearn.discriminant_analysis import LinearDiscriminantAnalysis as LDA\n",
        "from sklearn.neural_network import MLPClassifier\n",
        "from sklearn.feature_selection import SelectKBest, chi2\n",
        "from sklearn.ensemble import ExtraTreesClassifier\n",
        "\n",
        "from sklearn.linear_model import LinearRegression\n",
        "from sklearn.linear_model import Lasso\n",
        "from sklearn.linear_model import Ridge\n",
        "from sklearn.linear_model import ElasticNet"
      ],
      "metadata": {
        "id": "O7bzgSZ0sgxz"
      },
      "execution_count": 168,
      "outputs": []
    },
    {
      "cell_type": "code",
      "source": [
        "#Получение данных\n",
        "features = pd.read_csv('features_train.csv')\n",
        "classes = pd.read_csv('classes_train.csv')"
      ],
      "metadata": {
        "id": "NGnfB79bUklT"
      },
      "execution_count": 169,
      "outputs": []
    },
    {
      "cell_type": "code",
      "source": [
        "# Последним столбцом добавляем метки классов, удаляем бинарные признаки\n",
        "df1 = features.copy()\n",
        "df1['is_bot'] = pd.Series(classes['is_bot'], index = df1.index)\n",
        "\n",
        "df1.head()"
      ],
      "metadata": {
        "colab": {
          "base_uri": "https://localhost:8080/",
          "height": 299
        },
        "id": "vGsW0tT-XT0n",
        "outputId": "8cad7a32-0325-4751-be36-12c582b1cd42"
      },
      "execution_count": 170,
      "outputs": [
        {
          "output_type": "execute_result",
          "data": {
            "text/plain": [
              "   statuses_count  followers_count  friends_count  favourites_count  \\\n",
              "0            5124             6641           3074             13768   \n",
              "1           10672             8465           1575              4561   \n",
              "2             704             3108            454              2400   \n",
              "3            6091           304528            526               599   \n",
              "4           12967            13693            204              1177   \n",
              "\n",
              "   listed_count  is_default_profile  is_profile_use_background_image  \\\n",
              "0           126                   0                                0   \n",
              "1           191                   0                                1   \n",
              "2            77                   0                                0   \n",
              "3          1515                   0                                1   \n",
              "4           452                   0                                1   \n",
              "\n",
              "   is_verified  user_age  tweets_freq  ...  friends_growth_rate  \\\n",
              "0            1      2711     1.890077  ...             1.133899   \n",
              "1            1      4424     2.412297  ...             0.356013   \n",
              "2            0      1358     0.518409  ...             0.334315   \n",
              "3            1      4214     1.445420  ...             0.124822   \n",
              "4            1      3200     4.052187  ...             0.063750   \n",
              "\n",
              "   favourites_growth_rate  listed_growth_rate  followers_friends_ratio  \\\n",
              "0                5.078569            0.046477                 2.160377   \n",
              "1                1.030967            0.043174                 5.374603   \n",
              "2                1.767305            0.056701                 6.845815   \n",
              "3                0.142145            0.359516               578.950570   \n",
              "4                0.367812            0.141250                67.122549   \n",
              "\n",
              "   screen_name_length  num_digits_in_screen_name  length_of_name  \\\n",
              "0                  12                          0              14   \n",
              "1                  11                          0              23   \n",
              "2                  12                          0              18   \n",
              "3                  10                          0              11   \n",
              "4                  13                          0              14   \n",
              "\n",
              "   num_digits_in_name  description_length  is_bot  \n",
              "0                   0                  73       0  \n",
              "1                   0                 142       0  \n",
              "2                   0                  90       0  \n",
              "3                   0                  51       0  \n",
              "4                   0                 106       0  \n",
              "\n",
              "[5 rows x 21 columns]"
            ],
            "text/html": [
              "\n",
              "  <div id=\"df-51552353-e956-407c-9fce-cb234f3c5281\">\n",
              "    <div class=\"colab-df-container\">\n",
              "      <div>\n",
              "<style scoped>\n",
              "    .dataframe tbody tr th:only-of-type {\n",
              "        vertical-align: middle;\n",
              "    }\n",
              "\n",
              "    .dataframe tbody tr th {\n",
              "        vertical-align: top;\n",
              "    }\n",
              "\n",
              "    .dataframe thead th {\n",
              "        text-align: right;\n",
              "    }\n",
              "</style>\n",
              "<table border=\"1\" class=\"dataframe\">\n",
              "  <thead>\n",
              "    <tr style=\"text-align: right;\">\n",
              "      <th></th>\n",
              "      <th>statuses_count</th>\n",
              "      <th>followers_count</th>\n",
              "      <th>friends_count</th>\n",
              "      <th>favourites_count</th>\n",
              "      <th>listed_count</th>\n",
              "      <th>is_default_profile</th>\n",
              "      <th>is_profile_use_background_image</th>\n",
              "      <th>is_verified</th>\n",
              "      <th>user_age</th>\n",
              "      <th>tweets_freq</th>\n",
              "      <th>...</th>\n",
              "      <th>friends_growth_rate</th>\n",
              "      <th>favourites_growth_rate</th>\n",
              "      <th>listed_growth_rate</th>\n",
              "      <th>followers_friends_ratio</th>\n",
              "      <th>screen_name_length</th>\n",
              "      <th>num_digits_in_screen_name</th>\n",
              "      <th>length_of_name</th>\n",
              "      <th>num_digits_in_name</th>\n",
              "      <th>description_length</th>\n",
              "      <th>is_bot</th>\n",
              "    </tr>\n",
              "  </thead>\n",
              "  <tbody>\n",
              "    <tr>\n",
              "      <th>0</th>\n",
              "      <td>5124</td>\n",
              "      <td>6641</td>\n",
              "      <td>3074</td>\n",
              "      <td>13768</td>\n",
              "      <td>126</td>\n",
              "      <td>0</td>\n",
              "      <td>0</td>\n",
              "      <td>1</td>\n",
              "      <td>2711</td>\n",
              "      <td>1.890077</td>\n",
              "      <td>...</td>\n",
              "      <td>1.133899</td>\n",
              "      <td>5.078569</td>\n",
              "      <td>0.046477</td>\n",
              "      <td>2.160377</td>\n",
              "      <td>12</td>\n",
              "      <td>0</td>\n",
              "      <td>14</td>\n",
              "      <td>0</td>\n",
              "      <td>73</td>\n",
              "      <td>0</td>\n",
              "    </tr>\n",
              "    <tr>\n",
              "      <th>1</th>\n",
              "      <td>10672</td>\n",
              "      <td>8465</td>\n",
              "      <td>1575</td>\n",
              "      <td>4561</td>\n",
              "      <td>191</td>\n",
              "      <td>0</td>\n",
              "      <td>1</td>\n",
              "      <td>1</td>\n",
              "      <td>4424</td>\n",
              "      <td>2.412297</td>\n",
              "      <td>...</td>\n",
              "      <td>0.356013</td>\n",
              "      <td>1.030967</td>\n",
              "      <td>0.043174</td>\n",
              "      <td>5.374603</td>\n",
              "      <td>11</td>\n",
              "      <td>0</td>\n",
              "      <td>23</td>\n",
              "      <td>0</td>\n",
              "      <td>142</td>\n",
              "      <td>0</td>\n",
              "    </tr>\n",
              "    <tr>\n",
              "      <th>2</th>\n",
              "      <td>704</td>\n",
              "      <td>3108</td>\n",
              "      <td>454</td>\n",
              "      <td>2400</td>\n",
              "      <td>77</td>\n",
              "      <td>0</td>\n",
              "      <td>0</td>\n",
              "      <td>0</td>\n",
              "      <td>1358</td>\n",
              "      <td>0.518409</td>\n",
              "      <td>...</td>\n",
              "      <td>0.334315</td>\n",
              "      <td>1.767305</td>\n",
              "      <td>0.056701</td>\n",
              "      <td>6.845815</td>\n",
              "      <td>12</td>\n",
              "      <td>0</td>\n",
              "      <td>18</td>\n",
              "      <td>0</td>\n",
              "      <td>90</td>\n",
              "      <td>0</td>\n",
              "    </tr>\n",
              "    <tr>\n",
              "      <th>3</th>\n",
              "      <td>6091</td>\n",
              "      <td>304528</td>\n",
              "      <td>526</td>\n",
              "      <td>599</td>\n",
              "      <td>1515</td>\n",
              "      <td>0</td>\n",
              "      <td>1</td>\n",
              "      <td>1</td>\n",
              "      <td>4214</td>\n",
              "      <td>1.445420</td>\n",
              "      <td>...</td>\n",
              "      <td>0.124822</td>\n",
              "      <td>0.142145</td>\n",
              "      <td>0.359516</td>\n",
              "      <td>578.950570</td>\n",
              "      <td>10</td>\n",
              "      <td>0</td>\n",
              "      <td>11</td>\n",
              "      <td>0</td>\n",
              "      <td>51</td>\n",
              "      <td>0</td>\n",
              "    </tr>\n",
              "    <tr>\n",
              "      <th>4</th>\n",
              "      <td>12967</td>\n",
              "      <td>13693</td>\n",
              "      <td>204</td>\n",
              "      <td>1177</td>\n",
              "      <td>452</td>\n",
              "      <td>0</td>\n",
              "      <td>1</td>\n",
              "      <td>1</td>\n",
              "      <td>3200</td>\n",
              "      <td>4.052187</td>\n",
              "      <td>...</td>\n",
              "      <td>0.063750</td>\n",
              "      <td>0.367812</td>\n",
              "      <td>0.141250</td>\n",
              "      <td>67.122549</td>\n",
              "      <td>13</td>\n",
              "      <td>0</td>\n",
              "      <td>14</td>\n",
              "      <td>0</td>\n",
              "      <td>106</td>\n",
              "      <td>0</td>\n",
              "    </tr>\n",
              "  </tbody>\n",
              "</table>\n",
              "<p>5 rows × 21 columns</p>\n",
              "</div>\n",
              "      <button class=\"colab-df-convert\" onclick=\"convertToInteractive('df-51552353-e956-407c-9fce-cb234f3c5281')\"\n",
              "              title=\"Convert this dataframe to an interactive table.\"\n",
              "              style=\"display:none;\">\n",
              "        \n",
              "  <svg xmlns=\"http://www.w3.org/2000/svg\" height=\"24px\"viewBox=\"0 0 24 24\"\n",
              "       width=\"24px\">\n",
              "    <path d=\"M0 0h24v24H0V0z\" fill=\"none\"/>\n",
              "    <path d=\"M18.56 5.44l.94 2.06.94-2.06 2.06-.94-2.06-.94-.94-2.06-.94 2.06-2.06.94zm-11 1L8.5 8.5l.94-2.06 2.06-.94-2.06-.94L8.5 2.5l-.94 2.06-2.06.94zm10 10l.94 2.06.94-2.06 2.06-.94-2.06-.94-.94-2.06-.94 2.06-2.06.94z\"/><path d=\"M17.41 7.96l-1.37-1.37c-.4-.4-.92-.59-1.43-.59-.52 0-1.04.2-1.43.59L10.3 9.45l-7.72 7.72c-.78.78-.78 2.05 0 2.83L4 21.41c.39.39.9.59 1.41.59.51 0 1.02-.2 1.41-.59l7.78-7.78 2.81-2.81c.8-.78.8-2.07 0-2.86zM5.41 20L4 18.59l7.72-7.72 1.47 1.35L5.41 20z\"/>\n",
              "  </svg>\n",
              "      </button>\n",
              "      \n",
              "  <style>\n",
              "    .colab-df-container {\n",
              "      display:flex;\n",
              "      flex-wrap:wrap;\n",
              "      gap: 12px;\n",
              "    }\n",
              "\n",
              "    .colab-df-convert {\n",
              "      background-color: #E8F0FE;\n",
              "      border: none;\n",
              "      border-radius: 50%;\n",
              "      cursor: pointer;\n",
              "      display: none;\n",
              "      fill: #1967D2;\n",
              "      height: 32px;\n",
              "      padding: 0 0 0 0;\n",
              "      width: 32px;\n",
              "    }\n",
              "\n",
              "    .colab-df-convert:hover {\n",
              "      background-color: #E2EBFA;\n",
              "      box-shadow: 0px 1px 2px rgba(60, 64, 67, 0.3), 0px 1px 3px 1px rgba(60, 64, 67, 0.15);\n",
              "      fill: #174EA6;\n",
              "    }\n",
              "\n",
              "    [theme=dark] .colab-df-convert {\n",
              "      background-color: #3B4455;\n",
              "      fill: #D2E3FC;\n",
              "    }\n",
              "\n",
              "    [theme=dark] .colab-df-convert:hover {\n",
              "      background-color: #434B5C;\n",
              "      box-shadow: 0px 1px 3px 1px rgba(0, 0, 0, 0.15);\n",
              "      filter: drop-shadow(0px 1px 2px rgba(0, 0, 0, 0.3));\n",
              "      fill: #FFFFFF;\n",
              "    }\n",
              "  </style>\n",
              "\n",
              "      <script>\n",
              "        const buttonEl =\n",
              "          document.querySelector('#df-51552353-e956-407c-9fce-cb234f3c5281 button.colab-df-convert');\n",
              "        buttonEl.style.display =\n",
              "          google.colab.kernel.accessAllowed ? 'block' : 'none';\n",
              "\n",
              "        async function convertToInteractive(key) {\n",
              "          const element = document.querySelector('#df-51552353-e956-407c-9fce-cb234f3c5281');\n",
              "          const dataTable =\n",
              "            await google.colab.kernel.invokeFunction('convertToInteractive',\n",
              "                                                     [key], {});\n",
              "          if (!dataTable) return;\n",
              "\n",
              "          const docLinkHtml = 'Like what you see? Visit the ' +\n",
              "            '<a target=\"_blank\" href=https://colab.research.google.com/notebooks/data_table.ipynb>data table notebook</a>'\n",
              "            + ' to learn more about interactive tables.';\n",
              "          element.innerHTML = '';\n",
              "          dataTable['output_type'] = 'display_data';\n",
              "          await google.colab.output.renderOutput(dataTable, element);\n",
              "          const docLink = document.createElement('div');\n",
              "          docLink.innerHTML = docLinkHtml;\n",
              "          element.appendChild(docLink);\n",
              "        }\n",
              "      </script>\n",
              "    </div>\n",
              "  </div>\n",
              "  "
            ]
          },
          "metadata": {},
          "execution_count": 170
        }
      ]
    },
    {
      "cell_type": "code",
      "source": [
        "# Проверяем пропущенные значения\n",
        "df1.count()"
      ],
      "metadata": {
        "colab": {
          "base_uri": "https://localhost:8080/"
        },
        "id": "75EaFcmXX4fR",
        "outputId": "3d1144ba-1196-43ea-d893-bf0d990397c8"
      },
      "execution_count": 171,
      "outputs": [
        {
          "output_type": "execute_result",
          "data": {
            "text/plain": [
              "statuses_count                     2400\n",
              "followers_count                    2400\n",
              "friends_count                      2400\n",
              "favourites_count                   2400\n",
              "listed_count                       2400\n",
              "is_default_profile                 2400\n",
              "is_profile_use_background_image    2400\n",
              "is_verified                        2400\n",
              "user_age                           2400\n",
              "tweets_freq                        2400\n",
              "followers_growth_rate              2400\n",
              "friends_growth_rate                2400\n",
              "favourites_growth_rate             2400\n",
              "listed_growth_rate                 2400\n",
              "followers_friends_ratio            2400\n",
              "screen_name_length                 2400\n",
              "num_digits_in_screen_name          2400\n",
              "length_of_name                     2400\n",
              "num_digits_in_name                 2400\n",
              "description_length                 2400\n",
              "is_bot                             2400\n",
              "dtype: int64"
            ]
          },
          "metadata": {},
          "execution_count": 171
        }
      ]
    },
    {
      "cell_type": "code",
      "source": [
        "# Корреляционная матрица признаков\n",
        "\n",
        "fig, ax = plt.subplots(figsize=(10,10))\n",
        "sns.heatmap(df1.corr(), cmap = \"mako\")"
      ],
      "metadata": {
        "colab": {
          "base_uri": "https://localhost:8080/",
          "height": 770
        },
        "id": "4F1w0eggX-X9",
        "outputId": "abbd05ca-538f-44d3-8245-2cf039c2a4df"
      },
      "execution_count": 172,
      "outputs": [
        {
          "output_type": "execute_result",
          "data": {
            "text/plain": [
              "<matplotlib.axes._subplots.AxesSubplot at 0x7efcc5c94c50>"
            ]
          },
          "metadata": {},
          "execution_count": 172
        },
        {
          "output_type": "display_data",
          "data": {
            "text/plain": [
              "<Figure size 720x720 with 2 Axes>"
            ],
            "image/png": "[encoded data removed]"
          },
          "metadata": {
            "needs_background": "light"
          }
        }
      ]
    },
    {
      "cell_type": "code",
      "source": [
        "# Разделение набора данных на независимые и зависимые переменные. Сохраняем как массив\n",
        "X = df1.drop('is_bot', axis = 1)\n",
        "Y = df1.is_bot"
      ],
      "metadata": {
        "id": "SVzwkkPqYRHN"
      },
      "execution_count": 173,
      "outputs": []
    },
    {
      "cell_type": "code",
      "source": [
        "# Деление на обучающую и тестовую выборки (1:3)\n",
        "X_train, X_test, Y_train, Y_test = train_test_split(X, Y, test_size = 0.25, random_state = 26)"
      ],
      "metadata": {
        "id": "OSMeNFrWYabF"
      },
      "execution_count": 174,
      "outputs": []
    },
    {
      "cell_type": "code",
      "source": [
        "X_train.shape, X_test.shape"
      ],
      "metadata": {
        "colab": {
          "base_uri": "https://localhost:8080/"
        },
        "id": "8PmKLtDLYg4p",
        "outputId": "bfccbe21-9cca-4294-e0c1-98c033a61a92"
      },
      "execution_count": 175,
      "outputs": [
        {
          "output_type": "execute_result",
          "data": {
            "text/plain": [
              "((1800, 20), (600, 20))"
            ]
          },
          "metadata": {},
          "execution_count": 175
        }
      ]
    },
    {
      "cell_type": "code",
      "source": [
        "len(Y_train), len(Y_test)"
      ],
      "metadata": {
        "colab": {
          "base_uri": "https://localhost:8080/"
        },
        "id": "s3rlI9kbYjB5",
        "outputId": "112becfd-6a8f-4cea-dc8d-0029ea4465df"
      },
      "execution_count": 176,
      "outputs": [
        {
          "output_type": "execute_result",
          "data": {
            "text/plain": [
              "(1800, 600)"
            ]
          },
          "metadata": {},
          "execution_count": 176
        }
      ]
    },
    {
      "cell_type": "markdown",
      "source": [
        "## 1.1 Обучить модель без каких-либо дополнительных условий, которая должна наилучшим образом отработать на тестовой выборке преподавателя с точки зрения F-меры\n",
        "\n",
        "**F-мера (average =**\n",
        "\n",
        "* binary - результаты только для класса, указанного параметром pos_label\n",
        "* micro - глобально, подсчитывая общее количество истинных срабатываний, ложноотрицательных и ложноположительных результатов\n",
        "* macro - для каждой метки, находит их невзвешенное среднее значение\n",
        "* weighted - для каждой метки, находит их взвешенное среднее значение )"
      ],
      "metadata": {
        "id": "-6Vfx4O_Yyp0"
      }
    },
    {
      "cell_type": "code",
      "source": [
        "from sklearn.linear_model import LogisticRegression\n",
        "from sklearn.neighbors import KNeighborsClassifier"
      ],
      "metadata": {
        "id": "gALg-22isJIM"
      },
      "execution_count": 177,
      "outputs": []
    },
    {
      "cell_type": "code",
      "source": [
        "# Для сравнения значений F-меры\n",
        "F_measure = {'LogisticRegression':0, \n",
        "             'KNeighborsClassifier':0, \n",
        "             'DecisionTreeClassifier':0}\n",
        "#             'RandomForestClassifier':0 }"
      ],
      "metadata": {
        "id": "KwA4PLKyY88p"
      },
      "execution_count": 178,
      "outputs": []
    },
    {
      "cell_type": "markdown",
      "source": [
        "Метод LogisticRegression"
      ],
      "metadata": {
        "id": "2mzQHuvFvmjC"
      }
    },
    {
      "cell_type": "code",
      "source": [
        "# Стандартизируем данные\n",
        "\n",
        "Log = LogisticRegression()\n",
        "scaler = StandardScaler()\n",
        "X_train_M = scaler.fit_transform(X_train)\n",
        "X_test_M = scaler.transform(X_test)"
      ],
      "metadata": {
        "id": "q1zyhoUuZSIY"
      },
      "execution_count": 179,
      "outputs": []
    },
    {
      "cell_type": "code",
      "source": [
        "# Обучаем\n",
        "\n",
        "model_Log = LogisticRegression()\n",
        "    \n",
        "model_Log.fit(X_train_M, Y_train)\n",
        "Y_Log = model_Log.predict(X_test_M)\n",
        "\n",
        "F_measure['LogisticRegression'] = f1_score(Y_test, Y_Log, average = \"weighted\")"
      ],
      "metadata": {
        "id": "CvrZxZXaZliZ"
      },
      "execution_count": 180,
      "outputs": []
    },
    {
      "cell_type": "markdown",
      "source": [
        "Метод K-соседей"
      ],
      "metadata": {
        "id": "MED-rSQbZr_U"
      }
    },
    {
      "cell_type": "code",
      "source": [
        "# Стандартизируем данные\n",
        "\n",
        "from sklearn.pipeline import Pipeline\n",
        "from sklearn.preprocessing import StandardScaler\n",
        "\n",
        "KNN = KNeighborsClassifier()\n",
        "scaler = StandardScaler()\n",
        "\n",
        "steps_KNN = [('normalizer', scaler), ('KNN', KNN)]\n",
        "pipe_KNN = Pipeline(steps_KNN)"
      ],
      "metadata": {
        "id": "vpdE7mDjZqKu"
      },
      "execution_count": 181,
      "outputs": []
    },
    {
      "cell_type": "code",
      "source": [
        "# Обучаем\n",
        "\n",
        "model_KNN = KNeighborsClassifier()\n",
        "model_KNN.fit(X_train, Y_train)\n",
        "Y_KNN = model_KNN.predict(X_test)\n",
        "\n",
        "F_measure['KNeighborsClassifier'] = f1_score(Y_test, Y_KNN, average = \"weighted\")"
      ],
      "metadata": {
        "id": "TznH6QAnZw5W"
      },
      "execution_count": 182,
      "outputs": []
    },
    {
      "cell_type": "markdown",
      "source": [
        "Метод RandomForestClassifier"
      ],
      "metadata": {
        "id": "LAvcr4vXaNEv"
      }
    },
    {
      "cell_type": "code",
      "source": [
        "# Стандартизируем данные\n",
        "\n",
        "RFC = RandomForestClassifier()\n",
        "scaler = StandardScaler()\n",
        "\n",
        "steps_RFC = [('normalizer', scaler), ('RFC', RFC)]\n",
        "pipe_RFC = Pipeline(steps_RFC)"
      ],
      "metadata": {
        "id": "XrUJ-oO0aMom"
      },
      "execution_count": 183,
      "outputs": []
    },
    {
      "cell_type": "code",
      "source": [
        "# Обучаем\n",
        "\n",
        "model_RFC = RandomForestClassifier()\n",
        "model_RFC.fit(X_train, Y_train)\n",
        "Y_RFC = model_RFC.predict(X_test)\n",
        "\n",
        "F_measure['RandomForestClassifier'] = f1_score(Y_test, Y_RFC, average = \"weighted\")"
      ],
      "metadata": {
        "id": "puRYtREMaSoD"
      },
      "execution_count": 184,
      "outputs": []
    },
    {
      "cell_type": "code",
      "source": [
        "maxim = 0\n",
        "\n",
        "for i, j in F_measure.items():\n",
        "\n",
        "    if j > maxim:\n",
        "        maxim = j\n",
        "        model_max = i\n",
        "print ('Наибольшее значение F-меры:', maxim, '.  Модель:', model_max)"
      ],
      "metadata": {
        "colab": {
          "base_uri": "https://localhost:8080/"
        },
        "id": "obLDhx97aZiY",
        "outputId": "6b781e6d-3e7b-4220-f2f1-3eb66d81d204"
      },
      "execution_count": 185,
      "outputs": [
        {
          "output_type": "stream",
          "name": "stdout",
          "text": [
            "Наибольшее значение F-меры: 0.9966666666666667 .  Модель: RandomForestClassifier\n"
          ]
        }
      ]
    },
    {
      "cell_type": "code",
      "source": [
        "# сохраняем лучшую модель\n",
        "joblib.dump(model_Log, 'model_Log.pkl')\n",
        "files.download('model_Log.pkl') "
      ],
      "metadata": {
        "colab": {
          "base_uri": "https://localhost:8080/",
          "height": 17
        },
        "id": "ac6ecqhhaopn",
        "outputId": "f39e109c-27bd-4a72-cb1d-beabadd99da7"
      },
      "execution_count": 235,
      "outputs": [
        {
          "output_type": "display_data",
          "data": {
            "text/plain": [
              "<IPython.core.display.Javascript object>"
            ],
            "application/javascript": [
              "\n",
              "    async function download(id, filename, size) {\n",
              "      if (!google.colab.kernel.accessAllowed) {\n",
              "        return;\n",
              "      }\n",
              "      const div = document.createElement('div');\n",
              "      const label = document.createElement('label');\n",
              "      label.textContent = `Downloading \"${filename}\": `;\n",
              "      div.appendChild(label);\n",
              "      const progress = document.createElement('progress');\n",
              "      progress.max = size;\n",
              "      div.appendChild(progress);\n",
              "      document.body.appendChild(div);\n",
              "\n",
              "      const buffers = [];\n",
              "      let downloaded = 0;\n",
              "\n",
              "      const channel = await google.colab.kernel.comms.open(id);\n",
              "      // Send a message to notify the kernel that we're ready.\n",
              "      channel.send({})\n",
              "\n",
              "      for await (const message of channel.messages) {\n",
              "        // Send a message to notify the kernel that we're ready.\n",
              "        channel.send({})\n",
              "        if (message.buffers) {\n",
              "          for (const buffer of message.buffers) {\n",
              "            buffers.push(buffer);\n",
              "            downloaded += buffer.byteLength;\n",
              "            progress.value = downloaded;\n",
              "          }\n",
              "        }\n",
              "      }\n",
              "      const blob = new Blob(buffers, {type: 'application/binary'});\n",
              "      const a = document.createElement('a');\n",
              "      a.href = window.URL.createObjectURL(blob);\n",
              "      a.download = filename;\n",
              "      div.appendChild(a);\n",
              "      a.click();\n",
              "      div.remove();\n",
              "    }\n",
              "  "
            ]
          },
          "metadata": {}
        },
        {
          "output_type": "display_data",
          "data": {
            "text/plain": [
              "<IPython.core.display.Javascript object>"
            ],
            "application/javascript": [
              "download(\"download_88736b3b-c58e-46d6-aab9-943de5fd2816\", \"model_Log.pkl\", 1134)"
            ]
          },
          "metadata": {}
        }
      ]
    },
    {
      "cell_type": "markdown",
      "source": [
        "2.1. Максимально логичным образом обучить качественную модель, использующую для работы только 10 признаков из всего исходного множества."
      ],
      "metadata": {
        "id": "hn_7vX1Jgmfp"
      }
    },
    {
      "cell_type": "markdown",
      "source": [
        "2.1.1 Отбор наиболее информативных признаков для различных моделей при помощи графика с важностью коэфициентов"
      ],
      "metadata": {
        "id": "V-DUhyhJgnxO"
      }
    },
    {
      "cell_type": "code",
      "source": [
        "# Функция для вывода графика с важностью коэфициентов при соответствующих признаках\n",
        "\n",
        "def barh_plot(model, X_data):\n",
        "    attribute = X_data.columns.values\n",
        "    \n",
        "    # значение важности оцениваем по модулю\n",
        "    importance = abs(model.coef_)\n",
        "   \n",
        "    list1 = pd.DataFrame(data = {'importance': importance, 'attribute': X_data.columns, }).sort_values(by = 'importance')\n",
        "    list2 = list1.sort_values(by='importance', ascending=False)\n",
        "    print(list2)\n",
        "    sns.barplot(data = list2, y = 'attribute', x = 'importance')\n",
        "    \n",
        "    return list2"
      ],
      "metadata": {
        "id": "4x1UQTv2gncC"
      },
      "execution_count": 187,
      "outputs": []
    },
    {
      "cell_type": "markdown",
      "source": [
        "Модель LinearRegression"
      ],
      "metadata": {
        "id": "5CzVXUdIzQHN"
      }
    },
    {
      "cell_type": "code",
      "source": [
        "# нормировка данных \n",
        "\n",
        "scaler = StandardScaler()\n",
        "X_train_M = scaler.fit_transform(X_train)\n",
        "X_test_M = scaler.transform(X_test)"
      ],
      "metadata": {
        "id": "kQIWBzgxgyOE"
      },
      "execution_count": 188,
      "outputs": []
    },
    {
      "cell_type": "code",
      "source": [
        "model_regress = LinearRegression()\n",
        "model_regress.fit(X_train_M, Y_train)\n",
        "pred_train = model_regress.predict(X_train_M)\n",
        "pred_test = model_regress.predict(X_test_M)\n",
        "\n",
        "list_log = barh_plot(model_regress, X_train)"
      ],
      "metadata": {
        "colab": {
          "base_uri": "https://localhost:8080/",
          "height": 643
        },
        "id": "ECawxbhcg0wu",
        "outputId": "41c5f8f6-bd60-42f5-a71c-6841e6934d7e"
      },
      "execution_count": 189,
      "outputs": [
        {
          "output_type": "stream",
          "name": "stdout",
          "text": [
            "    importance                        attribute\n",
            "7     0.392850                      is_verified\n",
            "4     0.056180                     listed_count\n",
            "13    0.055517               listed_growth_rate\n",
            "8     0.042502                         user_age\n",
            "12    0.029924           favourites_growth_rate\n",
            "3     0.027785                 favourites_count\n",
            "11    0.022489              friends_growth_rate\n",
            "2     0.021800                    friends_count\n",
            "1     0.019212                  followers_count\n",
            "10    0.018382            followers_growth_rate\n",
            "16    0.005894        num_digits_in_screen_name\n",
            "5     0.004785               is_default_profile\n",
            "9     0.004491                      tweets_freq\n",
            "6     0.002752  is_profile_use_background_image\n",
            "14    0.002687          followers_friends_ratio\n",
            "15    0.001685               screen_name_length\n",
            "17    0.000669                   length_of_name\n",
            "19    0.000593               description_length\n",
            "0     0.000176                   statuses_count\n",
            "18    0.000084               num_digits_in_name\n"
          ]
        },
        {
          "output_type": "display_data",
          "data": {
            "text/plain": [
              "<Figure size 432x288 with 1 Axes>"
            ],
            "image/png": "[encoded data removed]"
          },
          "metadata": {
            "needs_background": "light"
          }
        }
      ]
    },
    {
      "cell_type": "code",
      "source": [
        "#Модель Ridge\n",
        "model_ridge = Ridge(alpha = 0.04)\n",
        "model_ridge.fit(X_train_M, Y_train)\n",
        "pred_ridge_train = model_ridge.predict(X_train_M)\n",
        "pred_ridge_test = model_ridge.predict(X_test_M)\n",
        "\n",
        "list_rige = barh_plot(model_ridge, X_train)"
      ],
      "metadata": {
        "colab": {
          "base_uri": "https://localhost:8080/",
          "height": 643
        },
        "id": "9xc1sZB-ltXM",
        "outputId": "f2280f9a-6bf5-4e9d-d182-0b8e1d6358d4"
      },
      "execution_count": 190,
      "outputs": [
        {
          "output_type": "stream",
          "name": "stdout",
          "text": [
            "    importance                        attribute\n",
            "7     0.392835                      is_verified\n",
            "4     0.055450                     listed_count\n",
            "13    0.054806               listed_growth_rate\n",
            "8     0.042510                         user_age\n",
            "12    0.029955           favourites_growth_rate\n",
            "3     0.027809                 favourites_count\n",
            "11    0.022510              friends_growth_rate\n",
            "2     0.021820                    friends_count\n",
            "1     0.018601                  followers_count\n",
            "10    0.017797            followers_growth_rate\n",
            "16    0.005893        num_digits_in_screen_name\n",
            "5     0.004787               is_default_profile\n",
            "9     0.004481                      tweets_freq\n",
            "6     0.002754  is_profile_use_background_image\n",
            "14    0.002647          followers_friends_ratio\n",
            "15    0.001686               screen_name_length\n",
            "17    0.000668                   length_of_name\n",
            "19    0.000596               description_length\n",
            "0     0.000188                   statuses_count\n",
            "18    0.000084               num_digits_in_name\n"
          ]
        },
        {
          "output_type": "display_data",
          "data": {
            "text/plain": [
              "<Figure size 432x288 with 1 Axes>"
            ],
            "image/png": "[encoded data removed]"
          },
          "metadata": {
            "needs_background": "light"
          }
        }
      ]
    },
    {
      "cell_type": "markdown",
      "source": [
        "2.1.2 Отбор наиболее информативных признаков при помощи SelectKBest и Extra Tree Classifier"
      ],
      "metadata": {
        "id": "xvY_MEupmDea"
      }
    },
    {
      "cell_type": "code",
      "source": [
        "list_log['attribute'].loc[:10]\n",
        "list_rige['attribute'].loc[:10]"
      ],
      "metadata": {
        "colab": {
          "base_uri": "https://localhost:8080/"
        },
        "id": "tlELb_0ZmD9v",
        "outputId": "0e079ea0-13d8-4ddf-9b1e-a677d21451dd"
      },
      "execution_count": 191,
      "outputs": [
        {
          "output_type": "execute_result",
          "data": {
            "text/plain": [
              "7                is_verified\n",
              "4               listed_count\n",
              "13        listed_growth_rate\n",
              "8                   user_age\n",
              "12    favourites_growth_rate\n",
              "3           favourites_count\n",
              "11       friends_growth_rate\n",
              "2              friends_count\n",
              "1            followers_count\n",
              "10     followers_growth_rate\n",
              "Name: attribute, dtype: object"
            ]
          },
          "metadata": {},
          "execution_count": 191
        }
      ]
    },
    {
      "cell_type": "code",
      "source": [
        "from sklearn import preprocessing"
      ],
      "metadata": {
        "id": "naUB39jXmF_m"
      },
      "execution_count": 192,
      "outputs": []
    },
    {
      "cell_type": "code",
      "source": [
        "K = 10\n",
        "# При помощи SelectKBest. DataFrame с признаками и их информативностью, отсортированный по убыванию\n",
        "\n",
        "best_features1 = SelectKBest(score_func=chi2, k=K)\n",
        "fit = best_features1.fit(X.values, Y.values)\n",
        "\n",
        "best_features1 = pd.DataFrame(data=fit.scores_, index = X.columns, columns=['chi2_score'])\n",
        "best_features1['number'] = pd.Series(range(X.shape[1]), index = best_features1.index)\n",
        "\n",
        "sel_best = best_features1.nlargest(K, 'chi2_score')\n",
        "sel_best"
      ],
      "metadata": {
        "colab": {
          "base_uri": "https://localhost:8080/",
          "height": 363
        },
        "id": "cfbRYa6QmIPd",
        "outputId": "1c73e507-3964-4c2e-af0d-fe9044f91782"
      },
      "execution_count": 193,
      "outputs": [
        {
          "output_type": "execute_result",
          "data": {
            "text/plain": [
              "                           chi2_score  number\n",
              "followers_count          6.568911e+07       1\n",
              "followers_friends_ratio  9.749806e+06      14\n",
              "favourites_count         8.109731e+06       3\n",
              "statuses_count           2.747301e+06       0\n",
              "friends_count            1.388549e+06       2\n",
              "user_age                 7.447282e+05       8\n",
              "listed_count             4.817762e+05       4\n",
              "followers_growth_rate    1.412058e+04      10\n",
              "favourites_growth_rate   2.046060e+03      12\n",
              "description_length       1.438377e+03      19"
            ],
            "text/html": [
              "\n",
              "  <div id=\"df-a279ef92-5b87-48f1-985c-96a0f1d21ff3\">\n",
              "    <div class=\"colab-df-container\">\n",
              "      <div>\n",
              "<style scoped>\n",
              "    .dataframe tbody tr th:only-of-type {\n",
              "        vertical-align: middle;\n",
              "    }\n",
              "\n",
              "    .dataframe tbody tr th {\n",
              "        vertical-align: top;\n",
              "    }\n",
              "\n",
              "    .dataframe thead th {\n",
              "        text-align: right;\n",
              "    }\n",
              "</style>\n",
              "<table border=\"1\" class=\"dataframe\">\n",
              "  <thead>\n",
              "    <tr style=\"text-align: right;\">\n",
              "      <th></th>\n",
              "      <th>chi2_score</th>\n",
              "      <th>number</th>\n",
              "    </tr>\n",
              "  </thead>\n",
              "  <tbody>\n",
              "    <tr>\n",
              "      <th>followers_count</th>\n",
              "      <td>6.568911e+07</td>\n",
              "      <td>1</td>\n",
              "    </tr>\n",
              "    <tr>\n",
              "      <th>followers_friends_ratio</th>\n",
              "      <td>9.749806e+06</td>\n",
              "      <td>14</td>\n",
              "    </tr>\n",
              "    <tr>\n",
              "      <th>favourites_count</th>\n",
              "      <td>8.109731e+06</td>\n",
              "      <td>3</td>\n",
              "    </tr>\n",
              "    <tr>\n",
              "      <th>statuses_count</th>\n",
              "      <td>2.747301e+06</td>\n",
              "      <td>0</td>\n",
              "    </tr>\n",
              "    <tr>\n",
              "      <th>friends_count</th>\n",
              "      <td>1.388549e+06</td>\n",
              "      <td>2</td>\n",
              "    </tr>\n",
              "    <tr>\n",
              "      <th>user_age</th>\n",
              "      <td>7.447282e+05</td>\n",
              "      <td>8</td>\n",
              "    </tr>\n",
              "    <tr>\n",
              "      <th>listed_count</th>\n",
              "      <td>4.817762e+05</td>\n",
              "      <td>4</td>\n",
              "    </tr>\n",
              "    <tr>\n",
              "      <th>followers_growth_rate</th>\n",
              "      <td>1.412058e+04</td>\n",
              "      <td>10</td>\n",
              "    </tr>\n",
              "    <tr>\n",
              "      <th>favourites_growth_rate</th>\n",
              "      <td>2.046060e+03</td>\n",
              "      <td>12</td>\n",
              "    </tr>\n",
              "    <tr>\n",
              "      <th>description_length</th>\n",
              "      <td>1.438377e+03</td>\n",
              "      <td>19</td>\n",
              "    </tr>\n",
              "  </tbody>\n",
              "</table>\n",
              "</div>\n",
              "      <button class=\"colab-df-convert\" onclick=\"convertToInteractive('df-a279ef92-5b87-48f1-985c-96a0f1d21ff3')\"\n",
              "              title=\"Convert this dataframe to an interactive table.\"\n",
              "              style=\"display:none;\">\n",
              "        \n",
              "  <svg xmlns=\"http://www.w3.org/2000/svg\" height=\"24px\"viewBox=\"0 0 24 24\"\n",
              "       width=\"24px\">\n",
              "    <path d=\"M0 0h24v24H0V0z\" fill=\"none\"/>\n",
              "    <path d=\"M18.56 5.44l.94 2.06.94-2.06 2.06-.94-2.06-.94-.94-2.06-.94 2.06-2.06.94zm-11 1L8.5 8.5l.94-2.06 2.06-.94-2.06-.94L8.5 2.5l-.94 2.06-2.06.94zm10 10l.94 2.06.94-2.06 2.06-.94-2.06-.94-.94-2.06-.94 2.06-2.06.94z\"/><path d=\"M17.41 7.96l-1.37-1.37c-.4-.4-.92-.59-1.43-.59-.52 0-1.04.2-1.43.59L10.3 9.45l-7.72 7.72c-.78.78-.78 2.05 0 2.83L4 21.41c.39.39.9.59 1.41.59.51 0 1.02-.2 1.41-.59l7.78-7.78 2.81-2.81c.8-.78.8-2.07 0-2.86zM5.41 20L4 18.59l7.72-7.72 1.47 1.35L5.41 20z\"/>\n",
              "  </svg>\n",
              "      </button>\n",
              "      \n",
              "  <style>\n",
              "    .colab-df-container {\n",
              "      display:flex;\n",
              "      flex-wrap:wrap;\n",
              "      gap: 12px;\n",
              "    }\n",
              "\n",
              "    .colab-df-convert {\n",
              "      background-color: #E8F0FE;\n",
              "      border: none;\n",
              "      border-radius: 50%;\n",
              "      cursor: pointer;\n",
              "      display: none;\n",
              "      fill: #1967D2;\n",
              "      height: 32px;\n",
              "      padding: 0 0 0 0;\n",
              "      width: 32px;\n",
              "    }\n",
              "\n",
              "    .colab-df-convert:hover {\n",
              "      background-color: #E2EBFA;\n",
              "      box-shadow: 0px 1px 2px rgba(60, 64, 67, 0.3), 0px 1px 3px 1px rgba(60, 64, 67, 0.15);\n",
              "      fill: #174EA6;\n",
              "    }\n",
              "\n",
              "    [theme=dark] .colab-df-convert {\n",
              "      background-color: #3B4455;\n",
              "      fill: #D2E3FC;\n",
              "    }\n",
              "\n",
              "    [theme=dark] .colab-df-convert:hover {\n",
              "      background-color: #434B5C;\n",
              "      box-shadow: 0px 1px 3px 1px rgba(0, 0, 0, 0.15);\n",
              "      filter: drop-shadow(0px 1px 2px rgba(0, 0, 0, 0.3));\n",
              "      fill: #FFFFFF;\n",
              "    }\n",
              "  </style>\n",
              "\n",
              "      <script>\n",
              "        const buttonEl =\n",
              "          document.querySelector('#df-a279ef92-5b87-48f1-985c-96a0f1d21ff3 button.colab-df-convert');\n",
              "        buttonEl.style.display =\n",
              "          google.colab.kernel.accessAllowed ? 'block' : 'none';\n",
              "\n",
              "        async function convertToInteractive(key) {\n",
              "          const element = document.querySelector('#df-a279ef92-5b87-48f1-985c-96a0f1d21ff3');\n",
              "          const dataTable =\n",
              "            await google.colab.kernel.invokeFunction('convertToInteractive',\n",
              "                                                     [key], {});\n",
              "          if (!dataTable) return;\n",
              "\n",
              "          const docLinkHtml = 'Like what you see? Visit the ' +\n",
              "            '<a target=\"_blank\" href=https://colab.research.google.com/notebooks/data_table.ipynb>data table notebook</a>'\n",
              "            + ' to learn more about interactive tables.';\n",
              "          element.innerHTML = '';\n",
              "          dataTable['output_type'] = 'display_data';\n",
              "          await google.colab.output.renderOutput(dataTable, element);\n",
              "          const docLink = document.createElement('div');\n",
              "          docLink.innerHTML = docLinkHtml;\n",
              "          element.appendChild(docLink);\n",
              "        }\n",
              "      </script>\n",
              "    </div>\n",
              "  </div>\n",
              "  "
            ]
          },
          "metadata": {},
          "execution_count": 193
        }
      ]
    },
    {
      "cell_type": "code",
      "source": [
        "# При помощи ExtraTreesClassifier. DataFrame с признаками и их информативностью, отсортированный по убыванию\n",
        "model2 = ExtraTreesClassifier()\n",
        "model2 = model2.fit(X.values, Y.values.ravel())\n",
        "\n",
        "best_features2 = pd.DataFrame(data = model2.feature_importances_, index = X.columns, columns=['feature_importance'])\n",
        "best_features2['number'] = pd.Series(range(X.shape[1]), index = best_features2.index)\n",
        "\n",
        "ex_trees = best_features2.nlargest(K, 'feature_importance')\n",
        "ex_trees"
      ],
      "metadata": {
        "colab": {
          "base_uri": "https://localhost:8080/",
          "height": 363
        },
        "id": "X7FZSVrAmMXH",
        "outputId": "8d472666-b18f-41c2-ad6c-0cc850e760ad"
      },
      "execution_count": 194,
      "outputs": [
        {
          "output_type": "execute_result",
          "data": {
            "text/plain": [
              "                                 feature_importance  number\n",
              "is_verified                                0.634513       7\n",
              "user_age                                   0.199541       8\n",
              "is_default_profile                         0.033537       5\n",
              "is_profile_use_background_image            0.027285       6\n",
              "favourites_count                           0.015471       3\n",
              "followers_friends_ratio                    0.013739      14\n",
              "friends_growth_rate                        0.012701      11\n",
              "favourites_growth_rate                     0.012044      12\n",
              "friends_count                              0.011037       2\n",
              "listed_count                               0.008046       4"
            ],
            "text/html": [
              "\n",
              "  <div id=\"df-e0ed1d0d-0f7d-48f9-bb04-48fffe345c23\">\n",
              "    <div class=\"colab-df-container\">\n",
              "      <div>\n",
              "<style scoped>\n",
              "    .dataframe tbody tr th:only-of-type {\n",
              "        vertical-align: middle;\n",
              "    }\n",
              "\n",
              "    .dataframe tbody tr th {\n",
              "        vertical-align: top;\n",
              "    }\n",
              "\n",
              "    .dataframe thead th {\n",
              "        text-align: right;\n",
              "    }\n",
              "</style>\n",
              "<table border=\"1\" class=\"dataframe\">\n",
              "  <thead>\n",
              "    <tr style=\"text-align: right;\">\n",
              "      <th></th>\n",
              "      <th>feature_importance</th>\n",
              "      <th>number</th>\n",
              "    </tr>\n",
              "  </thead>\n",
              "  <tbody>\n",
              "    <tr>\n",
              "      <th>is_verified</th>\n",
              "      <td>0.634513</td>\n",
              "      <td>7</td>\n",
              "    </tr>\n",
              "    <tr>\n",
              "      <th>user_age</th>\n",
              "      <td>0.199541</td>\n",
              "      <td>8</td>\n",
              "    </tr>\n",
              "    <tr>\n",
              "      <th>is_default_profile</th>\n",
              "      <td>0.033537</td>\n",
              "      <td>5</td>\n",
              "    </tr>\n",
              "    <tr>\n",
              "      <th>is_profile_use_background_image</th>\n",
              "      <td>0.027285</td>\n",
              "      <td>6</td>\n",
              "    </tr>\n",
              "    <tr>\n",
              "      <th>favourites_count</th>\n",
              "      <td>0.015471</td>\n",
              "      <td>3</td>\n",
              "    </tr>\n",
              "    <tr>\n",
              "      <th>followers_friends_ratio</th>\n",
              "      <td>0.013739</td>\n",
              "      <td>14</td>\n",
              "    </tr>\n",
              "    <tr>\n",
              "      <th>friends_growth_rate</th>\n",
              "      <td>0.012701</td>\n",
              "      <td>11</td>\n",
              "    </tr>\n",
              "    <tr>\n",
              "      <th>favourites_growth_rate</th>\n",
              "      <td>0.012044</td>\n",
              "      <td>12</td>\n",
              "    </tr>\n",
              "    <tr>\n",
              "      <th>friends_count</th>\n",
              "      <td>0.011037</td>\n",
              "      <td>2</td>\n",
              "    </tr>\n",
              "    <tr>\n",
              "      <th>listed_count</th>\n",
              "      <td>0.008046</td>\n",
              "      <td>4</td>\n",
              "    </tr>\n",
              "  </tbody>\n",
              "</table>\n",
              "</div>\n",
              "      <button class=\"colab-df-convert\" onclick=\"convertToInteractive('df-e0ed1d0d-0f7d-48f9-bb04-48fffe345c23')\"\n",
              "              title=\"Convert this dataframe to an interactive table.\"\n",
              "              style=\"display:none;\">\n",
              "        \n",
              "  <svg xmlns=\"http://www.w3.org/2000/svg\" height=\"24px\"viewBox=\"0 0 24 24\"\n",
              "       width=\"24px\">\n",
              "    <path d=\"M0 0h24v24H0V0z\" fill=\"none\"/>\n",
              "    <path d=\"M18.56 5.44l.94 2.06.94-2.06 2.06-.94-2.06-.94-.94-2.06-.94 2.06-2.06.94zm-11 1L8.5 8.5l.94-2.06 2.06-.94-2.06-.94L8.5 2.5l-.94 2.06-2.06.94zm10 10l.94 2.06.94-2.06 2.06-.94-2.06-.94-.94-2.06-.94 2.06-2.06.94z\"/><path d=\"M17.41 7.96l-1.37-1.37c-.4-.4-.92-.59-1.43-.59-.52 0-1.04.2-1.43.59L10.3 9.45l-7.72 7.72c-.78.78-.78 2.05 0 2.83L4 21.41c.39.39.9.59 1.41.59.51 0 1.02-.2 1.41-.59l7.78-7.78 2.81-2.81c.8-.78.8-2.07 0-2.86zM5.41 20L4 18.59l7.72-7.72 1.47 1.35L5.41 20z\"/>\n",
              "  </svg>\n",
              "      </button>\n",
              "      \n",
              "  <style>\n",
              "    .colab-df-container {\n",
              "      display:flex;\n",
              "      flex-wrap:wrap;\n",
              "      gap: 12px;\n",
              "    }\n",
              "\n",
              "    .colab-df-convert {\n",
              "      background-color: #E8F0FE;\n",
              "      border: none;\n",
              "      border-radius: 50%;\n",
              "      cursor: pointer;\n",
              "      display: none;\n",
              "      fill: #1967D2;\n",
              "      height: 32px;\n",
              "      padding: 0 0 0 0;\n",
              "      width: 32px;\n",
              "    }\n",
              "\n",
              "    .colab-df-convert:hover {\n",
              "      background-color: #E2EBFA;\n",
              "      box-shadow: 0px 1px 2px rgba(60, 64, 67, 0.3), 0px 1px 3px 1px rgba(60, 64, 67, 0.15);\n",
              "      fill: #174EA6;\n",
              "    }\n",
              "\n",
              "    [theme=dark] .colab-df-convert {\n",
              "      background-color: #3B4455;\n",
              "      fill: #D2E3FC;\n",
              "    }\n",
              "\n",
              "    [theme=dark] .colab-df-convert:hover {\n",
              "      background-color: #434B5C;\n",
              "      box-shadow: 0px 1px 3px 1px rgba(0, 0, 0, 0.15);\n",
              "      filter: drop-shadow(0px 1px 2px rgba(0, 0, 0, 0.3));\n",
              "      fill: #FFFFFF;\n",
              "    }\n",
              "  </style>\n",
              "\n",
              "      <script>\n",
              "        const buttonEl =\n",
              "          document.querySelector('#df-e0ed1d0d-0f7d-48f9-bb04-48fffe345c23 button.colab-df-convert');\n",
              "        buttonEl.style.display =\n",
              "          google.colab.kernel.accessAllowed ? 'block' : 'none';\n",
              "\n",
              "        async function convertToInteractive(key) {\n",
              "          const element = document.querySelector('#df-e0ed1d0d-0f7d-48f9-bb04-48fffe345c23');\n",
              "          const dataTable =\n",
              "            await google.colab.kernel.invokeFunction('convertToInteractive',\n",
              "                                                     [key], {});\n",
              "          if (!dataTable) return;\n",
              "\n",
              "          const docLinkHtml = 'Like what you see? Visit the ' +\n",
              "            '<a target=\"_blank\" href=https://colab.research.google.com/notebooks/data_table.ipynb>data table notebook</a>'\n",
              "            + ' to learn more about interactive tables.';\n",
              "          element.innerHTML = '';\n",
              "          dataTable['output_type'] = 'display_data';\n",
              "          await google.colab.output.renderOutput(dataTable, element);\n",
              "          const docLink = document.createElement('div');\n",
              "          docLink.innerHTML = docLinkHtml;\n",
              "          element.appendChild(docLink);\n",
              "        }\n",
              "      </script>\n",
              "    </div>\n",
              "  </div>\n",
              "  "
            ]
          },
          "metadata": {},
          "execution_count": 194
        }
      ]
    },
    {
      "cell_type": "markdown",
      "source": [
        "Признаки, которые хорошо себя показали во всех трех случаях:\n",
        "\n",
        "* is_verified\n",
        "* user_age\n",
        "* listed_count\n",
        "* friends_growth_rate\n",
        "* favourites_count\n",
        "* followers_growth_rate\n",
        "* is_default_profile\n",
        "* is_profile_use_background_image\n",
        "* statuses_count\n",
        "* friends_count"
      ],
      "metadata": {
        "id": "H1sf2HlLmR8i"
      }
    },
    {
      "cell_type": "code",
      "source": [
        "# Удаление 10 наименее значимых\n",
        "\n",
        "df_best = df1.drop(columns = ['followers_count', \n",
        "                           'tweets_freq', \n",
        "                            'favourites_growth_rate', \n",
        "                            'listed_growth_rate',\n",
        "                            'followers_friends_ratio', \n",
        "                            'screen_name_length',\n",
        "                            'num_digits_in_screen_name', \n",
        "                            'length_of_name', \n",
        "                            'num_digits_in_name',\n",
        "                            'description_length'])\n",
        "\n",
        "df_best.head()"
      ],
      "metadata": {
        "colab": {
          "base_uri": "https://localhost:8080/",
          "height": 270
        },
        "id": "MTmFGX8kmYv5",
        "outputId": "65c0c113-dd82-4298-e73c-9ffc22448576"
      },
      "execution_count": 195,
      "outputs": [
        {
          "output_type": "execute_result",
          "data": {
            "text/plain": [
              "   statuses_count  friends_count  favourites_count  listed_count  \\\n",
              "0            5124           3074             13768           126   \n",
              "1           10672           1575              4561           191   \n",
              "2             704            454              2400            77   \n",
              "3            6091            526               599          1515   \n",
              "4           12967            204              1177           452   \n",
              "\n",
              "   is_default_profile  is_profile_use_background_image  is_verified  user_age  \\\n",
              "0                   0                                0            1      2711   \n",
              "1                   0                                1            1      4424   \n",
              "2                   0                                0            0      1358   \n",
              "3                   0                                1            1      4214   \n",
              "4                   0                                1            1      3200   \n",
              "\n",
              "   followers_growth_rate  friends_growth_rate  is_bot  \n",
              "0               2.449650             1.133899       0  \n",
              "1               1.913427             0.356013       0  \n",
              "2               2.288660             0.334315       0  \n",
              "3              72.265781             0.124822       0  \n",
              "4               4.279063             0.063750       0  "
            ],
            "text/html": [
              "\n",
              "  <div id=\"df-035d3ec1-896a-45b2-9dbb-bb3ddfdc857a\">\n",
              "    <div class=\"colab-df-container\">\n",
              "      <div>\n",
              "<style scoped>\n",
              "    .dataframe tbody tr th:only-of-type {\n",
              "        vertical-align: middle;\n",
              "    }\n",
              "\n",
              "    .dataframe tbody tr th {\n",
              "        vertical-align: top;\n",
              "    }\n",
              "\n",
              "    .dataframe thead th {\n",
              "        text-align: right;\n",
              "    }\n",
              "</style>\n",
              "<table border=\"1\" class=\"dataframe\">\n",
              "  <thead>\n",
              "    <tr style=\"text-align: right;\">\n",
              "      <th></th>\n",
              "      <th>statuses_count</th>\n",
              "      <th>friends_count</th>\n",
              "      <th>favourites_count</th>\n",
              "      <th>listed_count</th>\n",
              "      <th>is_default_profile</th>\n",
              "      <th>is_profile_use_background_image</th>\n",
              "      <th>is_verified</th>\n",
              "      <th>user_age</th>\n",
              "      <th>followers_growth_rate</th>\n",
              "      <th>friends_growth_rate</th>\n",
              "      <th>is_bot</th>\n",
              "    </tr>\n",
              "  </thead>\n",
              "  <tbody>\n",
              "    <tr>\n",
              "      <th>0</th>\n",
              "      <td>5124</td>\n",
              "      <td>3074</td>\n",
              "      <td>13768</td>\n",
              "      <td>126</td>\n",
              "      <td>0</td>\n",
              "      <td>0</td>\n",
              "      <td>1</td>\n",
              "      <td>2711</td>\n",
              "      <td>2.449650</td>\n",
              "      <td>1.133899</td>\n",
              "      <td>0</td>\n",
              "    </tr>\n",
              "    <tr>\n",
              "      <th>1</th>\n",
              "      <td>10672</td>\n",
              "      <td>1575</td>\n",
              "      <td>4561</td>\n",
              "      <td>191</td>\n",
              "      <td>0</td>\n",
              "      <td>1</td>\n",
              "      <td>1</td>\n",
              "      <td>4424</td>\n",
              "      <td>1.913427</td>\n",
              "      <td>0.356013</td>\n",
              "      <td>0</td>\n",
              "    </tr>\n",
              "    <tr>\n",
              "      <th>2</th>\n",
              "      <td>704</td>\n",
              "      <td>454</td>\n",
              "      <td>2400</td>\n",
              "      <td>77</td>\n",
              "      <td>0</td>\n",
              "      <td>0</td>\n",
              "      <td>0</td>\n",
              "      <td>1358</td>\n",
              "      <td>2.288660</td>\n",
              "      <td>0.334315</td>\n",
              "      <td>0</td>\n",
              "    </tr>\n",
              "    <tr>\n",
              "      <th>3</th>\n",
              "      <td>6091</td>\n",
              "      <td>526</td>\n",
              "      <td>599</td>\n",
              "      <td>1515</td>\n",
              "      <td>0</td>\n",
              "      <td>1</td>\n",
              "      <td>1</td>\n",
              "      <td>4214</td>\n",
              "      <td>72.265781</td>\n",
              "      <td>0.124822</td>\n",
              "      <td>0</td>\n",
              "    </tr>\n",
              "    <tr>\n",
              "      <th>4</th>\n",
              "      <td>12967</td>\n",
              "      <td>204</td>\n",
              "      <td>1177</td>\n",
              "      <td>452</td>\n",
              "      <td>0</td>\n",
              "      <td>1</td>\n",
              "      <td>1</td>\n",
              "      <td>3200</td>\n",
              "      <td>4.279063</td>\n",
              "      <td>0.063750</td>\n",
              "      <td>0</td>\n",
              "    </tr>\n",
              "  </tbody>\n",
              "</table>\n",
              "</div>\n",
              "      <button class=\"colab-df-convert\" onclick=\"convertToInteractive('df-035d3ec1-896a-45b2-9dbb-bb3ddfdc857a')\"\n",
              "              title=\"Convert this dataframe to an interactive table.\"\n",
              "              style=\"display:none;\">\n",
              "        \n",
              "  <svg xmlns=\"http://www.w3.org/2000/svg\" height=\"24px\"viewBox=\"0 0 24 24\"\n",
              "       width=\"24px\">\n",
              "    <path d=\"M0 0h24v24H0V0z\" fill=\"none\"/>\n",
              "    <path d=\"M18.56 5.44l.94 2.06.94-2.06 2.06-.94-2.06-.94-.94-2.06-.94 2.06-2.06.94zm-11 1L8.5 8.5l.94-2.06 2.06-.94-2.06-.94L8.5 2.5l-.94 2.06-2.06.94zm10 10l.94 2.06.94-2.06 2.06-.94-2.06-.94-.94-2.06-.94 2.06-2.06.94z\"/><path d=\"M17.41 7.96l-1.37-1.37c-.4-.4-.92-.59-1.43-.59-.52 0-1.04.2-1.43.59L10.3 9.45l-7.72 7.72c-.78.78-.78 2.05 0 2.83L4 21.41c.39.39.9.59 1.41.59.51 0 1.02-.2 1.41-.59l7.78-7.78 2.81-2.81c.8-.78.8-2.07 0-2.86zM5.41 20L4 18.59l7.72-7.72 1.47 1.35L5.41 20z\"/>\n",
              "  </svg>\n",
              "      </button>\n",
              "      \n",
              "  <style>\n",
              "    .colab-df-container {\n",
              "      display:flex;\n",
              "      flex-wrap:wrap;\n",
              "      gap: 12px;\n",
              "    }\n",
              "\n",
              "    .colab-df-convert {\n",
              "      background-color: #E8F0FE;\n",
              "      border: none;\n",
              "      border-radius: 50%;\n",
              "      cursor: pointer;\n",
              "      display: none;\n",
              "      fill: #1967D2;\n",
              "      height: 32px;\n",
              "      padding: 0 0 0 0;\n",
              "      width: 32px;\n",
              "    }\n",
              "\n",
              "    .colab-df-convert:hover {\n",
              "      background-color: #E2EBFA;\n",
              "      box-shadow: 0px 1px 2px rgba(60, 64, 67, 0.3), 0px 1px 3px 1px rgba(60, 64, 67, 0.15);\n",
              "      fill: #174EA6;\n",
              "    }\n",
              "\n",
              "    [theme=dark] .colab-df-convert {\n",
              "      background-color: #3B4455;\n",
              "      fill: #D2E3FC;\n",
              "    }\n",
              "\n",
              "    [theme=dark] .colab-df-convert:hover {\n",
              "      background-color: #434B5C;\n",
              "      box-shadow: 0px 1px 3px 1px rgba(0, 0, 0, 0.15);\n",
              "      filter: drop-shadow(0px 1px 2px rgba(0, 0, 0, 0.3));\n",
              "      fill: #FFFFFF;\n",
              "    }\n",
              "  </style>\n",
              "\n",
              "      <script>\n",
              "        const buttonEl =\n",
              "          document.querySelector('#df-035d3ec1-896a-45b2-9dbb-bb3ddfdc857a button.colab-df-convert');\n",
              "        buttonEl.style.display =\n",
              "          google.colab.kernel.accessAllowed ? 'block' : 'none';\n",
              "\n",
              "        async function convertToInteractive(key) {\n",
              "          const element = document.querySelector('#df-035d3ec1-896a-45b2-9dbb-bb3ddfdc857a');\n",
              "          const dataTable =\n",
              "            await google.colab.kernel.invokeFunction('convertToInteractive',\n",
              "                                                     [key], {});\n",
              "          if (!dataTable) return;\n",
              "\n",
              "          const docLinkHtml = 'Like what you see? Visit the ' +\n",
              "            '<a target=\"_blank\" href=https://colab.research.google.com/notebooks/data_table.ipynb>data table notebook</a>'\n",
              "            + ' to learn more about interactive tables.';\n",
              "          element.innerHTML = '';\n",
              "          dataTable['output_type'] = 'display_data';\n",
              "          await google.colab.output.renderOutput(dataTable, element);\n",
              "          const docLink = document.createElement('div');\n",
              "          docLink.innerHTML = docLinkHtml;\n",
              "          element.appendChild(docLink);\n",
              "        }\n",
              "      </script>\n",
              "    </div>\n",
              "  </div>\n",
              "  "
            ]
          },
          "metadata": {},
          "execution_count": 195
        }
      ]
    },
    {
      "cell_type": "markdown",
      "source": [
        " Корреляционная матрица признаков"
      ],
      "metadata": {
        "id": "A6T3nRgBzrG0"
      }
    },
    {
      "cell_type": "code",
      "source": [
        "fig, ax = plt.subplots(figsize=(10, 10))\n",
        "sns.heatmap(df_best.corr(), cmap = \"mako\")"
      ],
      "metadata": {
        "colab": {
          "base_uri": "https://localhost:8080/",
          "height": 770
        },
        "id": "a6AEfC8Mmc4w",
        "outputId": "c7247eeb-8ed1-4268-c0f0-5f9d9b6e41e5"
      },
      "execution_count": 196,
      "outputs": [
        {
          "output_type": "execute_result",
          "data": {
            "text/plain": [
              "<matplotlib.axes._subplots.AxesSubplot at 0x7efcc6274790>"
            ]
          },
          "metadata": {},
          "execution_count": 196
        },
        {
          "output_type": "display_data",
          "data": {
            "text/plain": [
              "<Figure size 720x720 with 2 Axes>"
            ],
            "image/png": "[encoded data removed]"
          },
          "metadata": {
            "needs_background": "light"
          }
        }
      ]
    },
    {
      "cell_type": "markdown",
      "source": [
        "Подбор модели"
      ],
      "metadata": {
        "id": "laodKhuEmojq"
      }
    },
    {
      "cell_type": "code",
      "source": [
        "from sklearn.naive_bayes import MultinomialNB"
      ],
      "metadata": {
        "id": "A0vZAumKprdz"
      },
      "execution_count": 197,
      "outputs": []
    },
    {
      "cell_type": "code",
      "source": [
        "X = df_best.drop('is_bot', axis = 1)\n",
        "Y = df_best.is_bot\n",
        "X_train, X_test, Y_train, Y_test = train_test_split(X, Y, test_size = 0.25, random_state = 21)"
      ],
      "metadata": {
        "id": "huJ-jakEmnuH"
      },
      "execution_count": 198,
      "outputs": []
    },
    {
      "cell_type": "code",
      "source": [
        "model_NB = MultinomialNB()\n",
        "model_NB.fit(X_train, Y_train)\n",
        "Y_NB = model_NB.predict(X_test)\n",
        "\n",
        "print('F1: ', f1_score(Y_test, Y_NB))\n",
        "print('accuracy: ', accuracy_score(Y_test, Y_NB))"
      ],
      "metadata": {
        "colab": {
          "base_uri": "https://localhost:8080/"
        },
        "id": "aJjlVHHhmf_c",
        "outputId": "96dd2060-dcd8-466a-ad83-83b358e0e436"
      },
      "execution_count": 199,
      "outputs": [
        {
          "output_type": "stream",
          "name": "stdout",
          "text": [
            "F1:  0.810958904109589\n",
            "accuracy:  0.885\n"
          ]
        }
      ]
    },
    {
      "cell_type": "code",
      "source": [
        "model_KNN = KNeighborsClassifier()\n",
        "model_KNN.fit(X_train, Y_train)\n",
        "Y_KNN = model_KNN.predict(X_test)\n",
        "\n",
        "print('F1: ', f1_score(Y_test, Y_KNN))\n",
        "print('accuracy: ', accuracy_score(Y_test, Y_KNN))"
      ],
      "metadata": {
        "colab": {
          "base_uri": "https://localhost:8080/"
        },
        "id": "dUjSKGXPmy8L",
        "outputId": "0add3694-dff5-46a6-8545-b0194fc6edf1"
      },
      "execution_count": 200,
      "outputs": [
        {
          "output_type": "stream",
          "name": "stdout",
          "text": [
            "F1:  0.9435215946843853\n",
            "accuracy:  0.9716666666666667\n"
          ]
        }
      ]
    },
    {
      "cell_type": "code",
      "source": [
        "model_MLP = MLPClassifier(alpha=1, max_iter=1000)\n",
        "model_MLP.fit(X_train, Y_train)\n",
        "Y_MLP = model_MLP.predict(X_test)\n",
        "\n",
        "print('F1: ', f1_score(Y_test, Y_MLP))\n",
        "print('accuracy: ', accuracy_score(Y_test, Y_MLP))"
      ],
      "metadata": {
        "colab": {
          "base_uri": "https://localhost:8080/"
        },
        "id": "t0intzRmm4Yf",
        "outputId": "a988089a-9235-4433-d391-bdd385e14a66"
      },
      "execution_count": 201,
      "outputs": [
        {
          "output_type": "stream",
          "name": "stdout",
          "text": [
            "F1:  0.9028213166144202\n",
            "accuracy:  0.9483333333333334\n"
          ]
        }
      ]
    },
    {
      "cell_type": "code",
      "source": [
        "model_LDA = LDA()\n",
        "model_LDA.fit(X_train, Y_train)\n",
        "Y_LDA = model_LDA.predict(X_test)\n",
        "\n",
        "print('F1: ', f1_score(Y_test, Y_LDA))\n",
        "print('accuracy: ', accuracy_score(Y_test, Y_LDA))"
      ],
      "metadata": {
        "colab": {
          "base_uri": "https://localhost:8080/"
        },
        "id": "SdgkPOaunw4Y",
        "outputId": "bacce357-46d8-4949-921e-136d59ff237a"
      },
      "execution_count": 202,
      "outputs": [
        {
          "output_type": "stream",
          "name": "stdout",
          "text": [
            "F1:  0.9902912621359222\n",
            "accuracy:  0.995\n"
          ]
        }
      ]
    },
    {
      "cell_type": "code",
      "source": [
        "# Обучаем на полном наборе лучшую модель\n",
        "\n",
        "X = df1.drop('is_bot', axis = 1)\n",
        "Y = df1.is_bot\n",
        "X_train, X_test, Y_train, Y_test = train_test_split(X, Y, test_size = 0.25, random_state = 21)\n",
        "\n",
        "model_LDA = LDA()\n",
        "model_LDA.fit(X_train, Y_train)\n",
        "Y_LDA = model_LDA.predict(X_test)\n",
        "\n",
        "print('F1: ', f1_score(Y_test, Y_LDA))\n",
        "print('accuracy: ', accuracy_score(Y_test, Y_LDA))"
      ],
      "metadata": {
        "colab": {
          "base_uri": "https://localhost:8080/"
        },
        "id": "8ODYR16Znzu0",
        "outputId": "d86c6846-81a0-4eab-f116-a3e593140aa1"
      },
      "execution_count": 203,
      "outputs": [
        {
          "output_type": "stream",
          "name": "stdout",
          "text": [
            "F1:  0.9902912621359222\n",
            "accuracy:  0.995\n"
          ]
        }
      ]
    },
    {
      "cell_type": "code",
      "source": [
        "# сохраняем\n",
        "joblib.dump(model_LDA, 'model_LDA.pkl')\n",
        "files.download('model_LDA.pkl') "
      ],
      "metadata": {
        "colab": {
          "base_uri": "https://localhost:8080/",
          "height": 17
        },
        "id": "LPxgwufUn246",
        "outputId": "fae07835-6794-484e-c567-bcb9d714249b"
      },
      "execution_count": 234,
      "outputs": [
        {
          "output_type": "display_data",
          "data": {
            "text/plain": [
              "<IPython.core.display.Javascript object>"
            ],
            "application/javascript": [
              "\n",
              "    async function download(id, filename, size) {\n",
              "      if (!google.colab.kernel.accessAllowed) {\n",
              "        return;\n",
              "      }\n",
              "      const div = document.createElement('div');\n",
              "      const label = document.createElement('label');\n",
              "      label.textContent = `Downloading \"${filename}\": `;\n",
              "      div.appendChild(label);\n",
              "      const progress = document.createElement('progress');\n",
              "      progress.max = size;\n",
              "      div.appendChild(progress);\n",
              "      document.body.appendChild(div);\n",
              "\n",
              "      const buffers = [];\n",
              "      let downloaded = 0;\n",
              "\n",
              "      const channel = await google.colab.kernel.comms.open(id);\n",
              "      // Send a message to notify the kernel that we're ready.\n",
              "      channel.send({})\n",
              "\n",
              "      for await (const message of channel.messages) {\n",
              "        // Send a message to notify the kernel that we're ready.\n",
              "        channel.send({})\n",
              "        if (message.buffers) {\n",
              "          for (const buffer of message.buffers) {\n",
              "            buffers.push(buffer);\n",
              "            downloaded += buffer.byteLength;\n",
              "            progress.value = downloaded;\n",
              "          }\n",
              "        }\n",
              "      }\n",
              "      const blob = new Blob(buffers, {type: 'application/binary'});\n",
              "      const a = document.createElement('a');\n",
              "      a.href = window.URL.createObjectURL(blob);\n",
              "      a.download = filename;\n",
              "      div.appendChild(a);\n",
              "      a.click();\n",
              "      div.remove();\n",
              "    }\n",
              "  "
            ]
          },
          "metadata": {}
        },
        {
          "output_type": "display_data",
          "data": {
            "text/plain": [
              "<IPython.core.display.Javascript object>"
            ],
            "application/javascript": [
              "download(\"download_4c53fee5-6834-4340-af44-29fbd79cfdfd\", \"model_LDA.pkl\", 2694)"
            ]
          },
          "metadata": {}
        }
      ]
    },
    {
      "cell_type": "markdown",
      "source": [
        "2.2. Обучить модель, обеспечивающую вероятность пропуска бота на уровне не выше 0.03, и имеющую насколько возможно низкую вероятность ложного обнаружения."
      ],
      "metadata": {
        "id": "t4puAj4Vn3R8"
      }
    },
    {
      "cell_type": "markdown",
      "source": [
        "Метрики:\n",
        "\n",
        "Accuracy = (TP + TN)/(TP + TN + FP + FN)\n",
        "\n",
        "Precision = TP/(TP + FP)\n",
        "\n",
        "Recall = TP/(TP + FN)\n",
        "\n",
        "Можно через матрицу ошибок:\n",
        "\n",
        "> TP (true positive, истинно положительные, объект верно отнесён к данному классу) - сумма диагональных элементов\n",
        "\n",
        "> FP (false positive, ложно положительные, объект неверно отнесён к данному классу) - это сумма соответствующего столбца, за вычетом диагонального элемента\n",
        "\n",
        "> TN (true negative, истинно отрицательные, верно определено, что объект не принадлежит к данному классу) - удалить соответствующие столбец и строку из матрицы, а затем суммировать все остальные элементы\n",
        "\n",
        "> FN (false negative, ложно отрицательные, неверно определено, что объект не принадлежит к данному классу) - сумму соответствующей строки, за вычетом диагонального элемента\n",
        "\n",
        "Ложное обнаружение - ошибка 1 рода (Type I Error) - объект ошибочно относится к положительному классу ( = FP / количество в тестовой выборке).\n",
        "\n",
        "Пропуск бота - ошибка 2 рода (Type II Error) - объект ошибочно относится к отрицательному классу ( = FN / количество в тестовой выборке)."
      ],
      "metadata": {
        "id": "7hrZ4qLJn6Un"
      }
    },
    {
      "cell_type": "code",
      "source": [
        "# для сравнения ошибок первого и второго рода\n",
        "Error_I = {'LogisticRegression':0, \n",
        "             'KNeighborsClassifier':0, \n",
        "             #'DecisionTreeClassifier':0,\n",
        "             'RandomForestClassifier':0 }\n",
        "\n",
        "\n",
        "Error_II = {'LogisticRegression':0, \n",
        "             'KNeighborsClassifier':0, \n",
        "             #'DecisionTreeClassifier':0}\n",
        "             'RandomForestClassifier':0 }"
      ],
      "metadata": {
        "id": "2EveQVGAoJyy"
      },
      "execution_count": 205,
      "outputs": []
    },
    {
      "cell_type": "code",
      "source": [
        "# Работаем с полным набором признаков\n",
        "X = df1.drop('is_bot', axis = 1)\n",
        "Y = df1.is_bot"
      ],
      "metadata": {
        "id": "B0Az3PhOoM_k"
      },
      "execution_count": 206,
      "outputs": []
    },
    {
      "cell_type": "code",
      "source": [
        "X_train, X_test, Y_train, Y_test = train_test_split(X, Y, test_size = 0.25, random_state = 21)"
      ],
      "metadata": {
        "id": "B2Z20dP_oPCf"
      },
      "execution_count": 207,
      "outputs": []
    },
    {
      "cell_type": "code",
      "source": [
        "# количество в тестовой выборке\n",
        "M = Y_test.shape[0]"
      ],
      "metadata": {
        "id": "6dl5fcFYoRD_"
      },
      "execution_count": 208,
      "outputs": []
    },
    {
      "cell_type": "code",
      "source": [
        "# расчет метрик по матрице ошибок\n",
        "\n",
        "def Metrics (conf_mat):\n",
        "    Metrics_list = []\n",
        "    num_classes = 2\n",
        "    \n",
        "    FP_val = []\n",
        "    for i in range(num_classes):    \n",
        "        FP_val.append(sum(conf_mat[:,i]) - conf_mat[i,i])\n",
        "    FP = sum(FP_val)\n",
        "    \n",
        "    FN_val = []\n",
        "    for i in range(num_classes):\n",
        "        FN_val.append(sum(conf_mat[i,:]) - conf_mat[i,i])\n",
        "    FN = (sum(FN_val))\n",
        "    \n",
        "    Metrics_list.append(FP)\n",
        "    Metrics_list.append(FN)\n",
        "\n",
        "    return Metrics_list"
      ],
      "metadata": {
        "id": "4cRnCMYVoTMA"
      },
      "execution_count": 209,
      "outputs": []
    },
    {
      "cell_type": "markdown",
      "source": [
        "Логистическая регрессия"
      ],
      "metadata": {
        "id": "thxDxUQwoa-y"
      }
    },
    {
      "cell_type": "code",
      "source": [
        "# Стандартизируем данные\n",
        "\n",
        "Log = LogisticRegression()\n",
        "scaler = StandardScaler()\n",
        "X_train_M = scaler.fit_transform(X_train)\n",
        "X_test_M = scaler.transform(X_test)"
      ],
      "metadata": {
        "id": "G2UHtgPgoZC5"
      },
      "execution_count": 210,
      "outputs": []
    },
    {
      "cell_type": "code",
      "source": [
        "# обучение\n",
        "\n",
        "model_Log = LogisticRegression() \n",
        "model_Log.fit(X_train_M, Y_train)\n",
        "Y_Log = model_Log.predict(X_test_M)"
      ],
      "metadata": {
        "id": "QZjFwvs6od05"
      },
      "execution_count": 211,
      "outputs": []
    },
    {
      "cell_type": "code",
      "source": [
        "conf_mat_Log = confusion_matrix(Y_test, Y_Log)\n",
        "Error_I['LogisticRegression'] = Metrics (conf_mat_Log)[0] / M\n",
        "Error_II['LogisticRegression'] = Metrics (conf_mat_Log)[1] / M"
      ],
      "metadata": {
        "id": "3gGuxi8mofi_"
      },
      "execution_count": 212,
      "outputs": []
    },
    {
      "cell_type": "markdown",
      "source": [
        "K-соседей"
      ],
      "metadata": {
        "id": "Gr9THSTnokkb"
      }
    },
    {
      "cell_type": "code",
      "source": [
        "# Стандартизируем данные\n",
        "\n",
        "KNN = KNeighborsClassifier()\n",
        "scaler = StandardScaler()\n",
        "\n",
        "steps_KNN = [('normalizer', scaler), ('KNN', KNN)]\n",
        "pipe_KNN = Pipeline(steps_KNN)"
      ],
      "metadata": {
        "id": "wuhlSSbFohhg"
      },
      "execution_count": 213,
      "outputs": []
    },
    {
      "cell_type": "code",
      "source": [
        "# С помощью GridSearchCV производим подбор гиперпараметров:\n",
        "# n_neighbors - это количество соседей, которые нужно использовать, \n",
        "# weights - весовая функция,используемая при прогнозировании\n",
        "# algorithm - алгоритм, используемый для вычисления ближайших соседей\n",
        "\n",
        "\n",
        "params_KNN = \\\n",
        "     {'KNN__n_neighbors': np.arange(5, 50), \n",
        "     'KNN__weights': ['uniform', 'distance'], \n",
        "     'KNN__algorithm': ['auto', 'ball_tree', 'kd_tree', 'brute']}\n",
        "\n",
        "grid_search_KNN = GridSearchCV(pipe_KNN, params_KNN)\n",
        "grid_search_KNN.fit(X_train, Y_train)\n",
        "\n",
        "grid_search_KNN.best_params_"
      ],
      "metadata": {
        "colab": {
          "base_uri": "https://localhost:8080/"
        },
        "id": "MME0ZEORooPX",
        "outputId": "85737baa-7b1c-419e-bb87-0523a8158923"
      },
      "execution_count": 214,
      "outputs": [
        {
          "output_type": "execute_result",
          "data": {
            "text/plain": [
              "{'KNN__algorithm': 'auto', 'KNN__n_neighbors': 5, 'KNN__weights': 'distance'}"
            ]
          },
          "metadata": {},
          "execution_count": 214
        }
      ]
    },
    {
      "cell_type": "code",
      "source": [
        "# Обучаем модель с лучшими параметрами\n",
        "\n",
        "model_KNN = KNeighborsClassifier(algorithm = grid_search_KNN.best_params_['KNN__algorithm'], \n",
        "                                 n_neighbors = grid_search_KNN.best_params_['KNN__n_neighbors'], \n",
        "                                 weights = grid_search_KNN.best_params_['KNN__weights'])\n",
        "model_KNN.fit(X_train, Y_train)\n",
        "Y_KNN = model_KNN.predict(X_test)"
      ],
      "metadata": {
        "id": "rgCuCFAOoqQP"
      },
      "execution_count": 215,
      "outputs": []
    },
    {
      "cell_type": "code",
      "source": [
        "conf_mat_KNN = confusion_matrix(Y_test, Y_KNN)\n",
        "Error_I['KNeighborsClassifier'] = Metrics (conf_mat_KNN)[0] / M\n",
        "Error_II['KNeighborsClassifier'] = Metrics (conf_mat_KNN)[1] / M"
      ],
      "metadata": {
        "id": "fOfpkZWzorFp"
      },
      "execution_count": 216,
      "outputs": []
    },
    {
      "cell_type": "markdown",
      "source": [
        "Случайный лес"
      ],
      "metadata": {
        "id": "zUROzXb9o5uQ"
      }
    },
    {
      "cell_type": "code",
      "source": [
        "# Стандартизируем данные\n",
        "\n",
        "RFC = RandomForestClassifier()\n",
        "scaler = StandardScaler()\n",
        "\n",
        "steps_RFC = [('normalizer', scaler), ('RFC', RFC)]\n",
        "pipe_RFC = Pipeline(steps_RFC)"
      ],
      "metadata": {
        "id": "KtgIpKN6o7cf"
      },
      "execution_count": 217,
      "outputs": []
    },
    {
      "cell_type": "code",
      "source": [
        "#Подбираем гиперпараметры\n",
        "\n",
        "params_RFC = \\\n",
        "     {'RFC__n_estimators': np.arange(10, 100),\n",
        "     'RFC__criterion': ['gini', 'entropy']}\n",
        "grid_search_RFC = GridSearchCV(pipe_RFC, params_RFC)\n",
        "grid_search_RFC.fit(X_train, Y_train)\n",
        "grid_search_RFC.best_params_"
      ],
      "metadata": {
        "colab": {
          "base_uri": "https://localhost:8080/"
        },
        "id": "ey0mdMAAo9TT",
        "outputId": "c2783a83-d267-40a4-eba7-e01126de4167"
      },
      "execution_count": 218,
      "outputs": [
        {
          "output_type": "execute_result",
          "data": {
            "text/plain": [
              "{'RFC__criterion': 'entropy', 'RFC__n_estimators': 44}"
            ]
          },
          "metadata": {},
          "execution_count": 218
        }
      ]
    },
    {
      "cell_type": "code",
      "source": [
        "# Обучаем модель с лучшими параметрами\n",
        "\n",
        "model_RFC = RandomForestClassifier(n_estimators = grid_search_RFC.best_params_['RFC__n_estimators'], \n",
        "                                 criterion = grid_search_RFC.best_params_['RFC__criterion'])\n",
        "model_RFC.fit(X_train, Y_train)\n",
        "Y_RFC = model_RFC.predict(X_test)"
      ],
      "metadata": {
        "id": "OpJUs-fUpAuS"
      },
      "execution_count": 219,
      "outputs": []
    },
    {
      "cell_type": "code",
      "source": [
        "conf_mat_RFC = confusion_matrix(Y_test, Y_RFC)\n",
        "Error_I['RandomForestClassifier'] = Metrics (conf_mat_RFC)[0] / M\n",
        "Error_II['RandomForestClassifier'] = Metrics (conf_mat_RFC)[1] / M"
      ],
      "metadata": {
        "id": "MtL3PS3apCnm"
      },
      "execution_count": 220,
      "outputs": []
    },
    {
      "cell_type": "markdown",
      "source": [
        "Сравниваем значения ошибок первого и второго рода у различных моделей"
      ],
      "metadata": {
        "id": "czAUghV_pFMI"
      }
    },
    {
      "cell_type": "code",
      "source": [
        "Error_II"
      ],
      "metadata": {
        "colab": {
          "base_uri": "https://localhost:8080/"
        },
        "id": "aqgY7I0RpEeM",
        "outputId": "9c6d1bd1-652e-482e-faa0-a25a07c98074"
      },
      "execution_count": 221,
      "outputs": [
        {
          "output_type": "execute_result",
          "data": {
            "text/plain": [
              "{'LogisticRegression': 0.0033333333333333335,\n",
              " 'KNeighborsClassifier': 0.015,\n",
              " 'RandomForestClassifier': 0.0033333333333333335}"
            ]
          },
          "metadata": {},
          "execution_count": 221
        }
      ]
    },
    {
      "cell_type": "markdown",
      "source": [
        "Ошибка II рода ни в одном случае не превышает 0,03 "
      ],
      "metadata": {
        "id": "sQ4lrx1xpKc5"
      }
    },
    {
      "cell_type": "code",
      "source": [
        "minim = 1\n",
        "\n",
        "for i, j in Error_I.items():\n",
        "    if j < minim:\n",
        "        minim = j\n",
        "        model_min = i\n",
        "print ('Наименьшая ошибка первого рода:', minim, '.  Модель:', model_min)"
      ],
      "metadata": {
        "colab": {
          "base_uri": "https://localhost:8080/"
        },
        "id": "ZHD0-yMmpOCP",
        "outputId": "ee2b5dac-1d60-46fe-d061-d93f4b558cba"
      },
      "execution_count": 222,
      "outputs": [
        {
          "output_type": "stream",
          "name": "stdout",
          "text": [
            "Наименьшая ошибка первого рода: 0.0033333333333333335 .  Модель: LogisticRegression\n"
          ]
        }
      ]
    },
    {
      "cell_type": "code",
      "source": [
        "report_RFC = classification_report(Y_test, Y_RFC)\n",
        "print(report_RFC)"
      ],
      "metadata": {
        "colab": {
          "base_uri": "https://localhost:8080/"
        },
        "id": "QV6S-ZygpRUE",
        "outputId": "cefd7605-0a6f-4b11-c91c-babbd51d8064"
      },
      "execution_count": 223,
      "outputs": [
        {
          "output_type": "stream",
          "name": "stdout",
          "text": [
            "              precision    recall  f1-score   support\n",
            "\n",
            "           0       1.00      1.00      1.00       447\n",
            "           1       1.00      0.99      0.99       153\n",
            "\n",
            "    accuracy                           1.00       600\n",
            "   macro avg       1.00      0.99      1.00       600\n",
            "weighted avg       1.00      1.00      1.00       600\n",
            "\n"
          ]
        }
      ]
    },
    {
      "cell_type": "markdown",
      "source": [
        "Вывод:\n",
        "\n",
        "Наименьшую ошибку первого рода дает модель RandomForestClassifier и LogisticRegression\n",
        "\n",
        "Ошибка второго рода не превышает 0,03 у всех четырех моделей. Но наименьшая у RandomForestClassifier и LogisticRegression"
      ],
      "metadata": {
        "id": "eEtQvcdTpVh1"
      }
    },
    {
      "cell_type": "code",
      "source": [
        "# сохраняем \"лучшие\" модели \n",
        "joblib.dump(model_RFC, 'model_RFC.pkl')\n",
        "files.download('model_RFC.pkl') "
      ],
      "metadata": {
        "colab": {
          "base_uri": "https://localhost:8080/"
        },
        "id": "_fOQ-fxxpWsq",
        "outputId": "53fbf86a-4f66-441d-9127-3a2e322eefae"
      },
      "execution_count": 224,
      "outputs": [
        {
          "output_type": "execute_result",
          "data": {
            "text/plain": [
              "['model_RFC.pkl']"
            ]
          },
          "metadata": {},
          "execution_count": 224
        }
      ]
    },
    {
      "cell_type": "code",
      "source": [
        "# сохраняем \"лучшие\" модели \n",
        "joblib.dump(model_Log, 'model_Log.pkl')\n",
        "files.download('model_Log.pkl') "
      ],
      "metadata": {
        "colab": {
          "base_uri": "https://localhost:8080/"
        },
        "id": "XEw0YOPZ3tcq",
        "outputId": "a36033aa-eb04-43c7-8da9-e6dfd7153362"
      },
      "execution_count": 225,
      "outputs": [
        {
          "output_type": "execute_result",
          "data": {
            "text/plain": [
              "['model_Log.pkl']"
            ]
          },
          "metadata": {},
          "execution_count": 225
        }
      ]
    }
  ]
}